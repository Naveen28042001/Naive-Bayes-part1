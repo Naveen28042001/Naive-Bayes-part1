{
 "cells": [
  {
   "cell_type": "code",
   "execution_count": null,
   "id": "68b4db4e-7e6b-43b1-8bbd-85fcdd3d874c",
   "metadata": {},
   "outputs": [],
   "source": [
    "Q1. What is Bayes' theorem?\n",
    "\n",
    "Bayes theorem is a fundamental mtheorem in probability theory that describes the probability of an event based on prior knowledge of conditions that might be relevant to the event.\n",
    "It is often used in statistics,Machine Learning and various fields of science."
   ]
  },
  {
   "cell_type": "code",
   "execution_count": null,
   "id": "42c3f6cd-42d1-4854-a402-1aded23679b4",
   "metadata": {},
   "outputs": [],
   "source": [
    "Q2. What is the formula for Bayes' theorem?\n",
    "\n",
    "P(A/B) = (P(A)*P(B/A))/P(B)\n",
    "\n",
    "P(A/B) - Probability of Event A given B has occured\n",
    "P(B/A) - Probability of Event B given A has occured\n",
    "P(A) - Probability of event A\n",
    "P(B) - Probability of event B"
   ]
  },
  {
   "cell_type": "code",
   "execution_count": null,
   "id": "6f293587-b888-4285-98f4-1063b43e24b8",
   "metadata": {},
   "outputs": [],
   "source": [
    "Q3. How is Bayes' theorem used in practice?\n",
    "\n",
    "Bayes' theorem is used in various fields and applications, including statistics, machine learning, and everyday decision-making. \n",
    "Here are some common ways in which Bayes' theorem is applied in practice:\n",
    "    Bayesian inference\n",
    "    Medical diagnosis\n",
    "    spam filtering\n",
    "    Pattern recognition\n",
    "    Risk assessment\n",
    "By applying Bayes' theorem in these and other practical scenarios, individuals and organizations can make more accurate predictions, improve decision-making processes, and update their beliefs or understanding of various situations based on new evidence or information.    \n",
    "    "
   ]
  },
  {
   "cell_type": "code",
   "execution_count": null,
   "id": "e41e50fe-19f2-412d-a196-3ba6664bae95",
   "metadata": {},
   "outputs": [],
   "source": [
    "Q4. What is the relationship between Bayes' theorem and conditional probability?\n",
    "\n",
    "Bayes' theorem is closely related to conditional probability, as it provides a way to calculate the conditional probability of an event given the occurrence of another related event. \n",
    "The theorem mathematically formalizes how to update or revise the conditional probability of an event based on new evidence or information.\n",
    "The relationship between Bayes' theorem and conditional probability can be understood through the formula of Bayes' theorem:\n",
    "    P(A/B) = (P(A)*P(B/A))/P(B)\n",
    "\n",
    "P(A/B) - Probability of Event A given B has occured\n",
    "P(B/A) - Probability of Event B given A has occured\n",
    "P(A) - Probability of event A\n",
    "P(B) - Probability of event B\n",
    "\n",
    "In terms of conditional probability, Bayes' theorem can be expressed as:\n",
    "      P(A/B) = (P(A)*P(B/A))/ ((P(A)*P(B/A))+ (P(~A)*P(B/~A)))\n",
    "P(~A) - Probability of complement of event A\n"
   ]
  },
  {
   "cell_type": "code",
   "execution_count": null,
   "id": "e135925a-56c3-44db-a23f-f12ddf957f86",
   "metadata": {},
   "outputs": [],
   "source": [
    "Q5. How do you choose which type of Naive Bayes classifier to use for any given problem?\n",
    "\n",
    "Here's how you can select the appropriate type for your problem:\n",
    "Gaussian Naive Bayes: \n",
    "    This classifier assumes that the features follow a normal distribution. It is suitable for continuous or real-valued data and works well when the features are continuous and can be modeled using a Gaussian distribution.\n",
    "\n",
    "Multinomial Naive Bayes: \n",
    "    This classifier is appropriate for discrete features that represent counts, such as word counts in text classification. It is commonly used for text classification tasks, where the features are discrete and represent the frequency of terms or words in the document.\n",
    "\n",
    "Bernoulli Naive Bayes: This classifier is suitable when the features are binary or represent binary occurrences. It is commonly used for document classification tasks, where the presence or absence of words in the document is considered, rather than their frequency.\n",
    "\n",
    "To choose the appropriate type of Naive Bayes classifier for a specific problem, consider the nature of the features in your dataset and whether they are continuous, discrete, or binary. \n",
    "If the features are continuous, Gaussian Naive Bayes might be suitable. If t\n",
    "he features are discrete and represent counts, Multinomial Naive Bayes could be appropriate. If the features are binary, Bernoulli Naive Bayes might be a good choice.\n",
    "\n"
   ]
  },
  {
   "cell_type": "code",
   "execution_count": null,
   "id": "dd957db1-b62b-45d1-b0a7-d7c6f2ab58e8",
   "metadata": {},
   "outputs": [],
   "source": [
    "Q6. Assignment:\n",
    "You have a dataset with two features, X1 and X2, and two possible classes, A and B. You want to use Naive\n",
    "Bayes to classify a new instance with features X1 = 3 and X2 = 4. The following table shows the frequency of\n",
    "each feature value for each class:\n",
    "Class X1=1 X1=2 X1=3 X2=1 X2=2 X2=3 X2=4\n",
    "A      3    3    4    4    3    3    3\n",
    "B      2    2    1    2    2    2    3\n",
    "Assuming equal prior probabilities for each class, which class would Naive Bayes predict the new instance\n",
    "to belong to?\n",
    "\n",
    "1.Calculate the prior probabilities of classes A and B:\n",
    "   P(A) = P(B) = 0.5 (assuming equal prior probabilities for each class)\n",
    "\n",
    "2.Calculate the likelihood of the new instance (X1=3, X2=4) for each class using the frequency table:\n",
    "    For class A:\n",
    "        P(x1=3/A) = 4/10\n",
    "        p(x2=4/A) = 3/10\n",
    "        \n",
    "    For class B:\n",
    "        P(x1=3/B) = 1/7\n",
    "        P(x2=4/B) = 3/7\n",
    "        \n",
    "3.Multiply the prior probability and the likelihood for each class:\n",
    "    For class A:\n",
    "        P(A/x1=3,x2=4) = P(A)*P(x1=3/A)*P(x2=4/A) = 0.5*0.4*0.3 = 0.06\n",
    "    For class B:\n",
    "            P(B/x1=3,x2=4) = P(B)*P(x1=3/B)*P(x2=4/B) = 0.5*0.0.1*0.0.4 = 0.02\n",
    "            \n",
    "4.Compare the posterior probabilities for each class and choose the class with the highest probability. \n",
    "After performing the calculations, we can determine which class the Naive Bayes classifier would predict the new instance with features X1=3 and X2=4 to belong to"
   ]
  },
  {
   "cell_type": "code",
   "execution_count": null,
   "id": "e662446a-a3fa-4896-90b8-2b1fdff28fe4",
   "metadata": {},
   "outputs": [],
   "source": []
  },
  {
   "cell_type": "code",
   "execution_count": null,
   "id": "af4a4993-9620-454c-89dc-c7c734fc7e9d",
   "metadata": {},
   "outputs": [],
   "source": []
  }
 ],
 "metadata": {
  "kernelspec": {
   "display_name": "Python 3 (ipykernel)",
   "language": "python",
   "name": "python3"
  },
  "language_info": {
   "codemirror_mode": {
    "name": "ipython",
    "version": 3
   },
   "file_extension": ".py",
   "mimetype": "text/x-python",
   "name": "python",
   "nbconvert_exporter": "python",
   "pygments_lexer": "ipython3",
   "version": "3.10.8"
  }
 },
 "nbformat": 4,
 "nbformat_minor": 5
}
